{
 "cells": [
  {
   "cell_type": "code",
   "execution_count": 1,
   "metadata": {},
   "outputs": [
    {
     "name": "stdout",
     "output_type": "stream",
     "text": [
      "======= \n",
      "DAY 1\n",
      "assignment 2 = 55701\n",
      "======= \n",
      "DAY 2\n",
      "assignment 1 = 2447\n",
      "assignment 2 = 56322\n",
      "======= \n",
      "DAY 3\n",
      "assignment 1 = 539637\n",
      "assignment 2 = 82818007\n",
      "======= \n",
      "DAY 4\n",
      "assignment 1 = 15268\n",
      "assignment 2 = 6283755\n"
     ]
    }
   ],
   "source": [
    "from day1.app2 import run as run_day1\n",
    "from day2.app import run as run_day2\n",
    "from day3.app import run as run_day3\n",
    "from day4.app import run as run_day4\n",
    "\n",
    "with open('day1/input', 'r') as file:\n",
    "        print(\"======= \\nDAY 1\")\n",
    "        run_day1(file)\n",
    "\n",
    "with open('day2/input', 'r') as file:\n",
    "        print(\"======= \\nDAY 2\")\n",
    "        run_day2(file)\n",
    "\n",
    "with open('day3/input', 'r') as file:\n",
    "        print(\"======= \\nDAY 3\")\n",
    "        run_day3(file)\n",
    "\n",
    "with open('day4/input', 'r') as file:\n",
    "        print(\"======= \\nDAY 4\")\n",
    "        run_day4(file)"
   ]
  }
 ],
 "metadata": {
  "kernelspec": {
   "display_name": "Python 3",
   "language": "python",
   "name": "python3"
  },
  "language_info": {
   "codemirror_mode": {
    "name": "ipython",
    "version": 3
   },
   "file_extension": ".py",
   "mimetype": "text/x-python",
   "name": "python",
   "nbconvert_exporter": "python",
   "pygments_lexer": "ipython3",
   "version": "3.11.6"
  },
  "orig_nbformat": 4
 },
 "nbformat": 4,
 "nbformat_minor": 2
}
