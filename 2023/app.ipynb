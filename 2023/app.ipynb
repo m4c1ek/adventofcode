{
 "cells": [
  {
   "cell_type": "code",
   "execution_count": 2,
   "metadata": {},
   "outputs": [
    {
     "name": "stdout",
     "output_type": "stream",
     "text": [
      "the result for is -> 55701\n"
     ]
    }
   ],
   "source": [
    "from day1.app2 import get_first_and_last\n",
    "\n",
    "with open('day1/input', 'r') as file:\n",
    "        input = file.read().splitlines()\n",
    "        result = list(map(get_first_and_last, input))\n",
    "        print(\"the result for is -> \" + str(sum(result)))\n"
   ]
  }
 ],
 "metadata": {
  "kernelspec": {
   "display_name": "Python 3",
   "language": "python",
   "name": "python3"
  },
  "language_info": {
   "codemirror_mode": {
    "name": "ipython",
    "version": 3
   },
   "file_extension": ".py",
   "mimetype": "text/x-python",
   "name": "python",
   "nbconvert_exporter": "python",
   "pygments_lexer": "ipython3",
   "version": "3.11.6"
  },
  "orig_nbformat": 4
 },
 "nbformat": 4,
 "nbformat_minor": 2
}
